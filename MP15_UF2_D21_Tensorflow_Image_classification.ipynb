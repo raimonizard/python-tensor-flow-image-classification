{
  "nbformat": 4,
  "nbformat_minor": 0,
  "metadata": {
    "colab": {
      "provenance": [],
      "authorship_tag": "ABX9TyO4x6PVvqhSfLfW9nL48yzm",
      "include_colab_link": true
    },
    "kernelspec": {
      "name": "python3",
      "display_name": "Python 3"
    },
    "language_info": {
      "name": "python"
    }
  },
  "cells": [
    {
      "cell_type": "markdown",
      "metadata": {
        "id": "view-in-github",
        "colab_type": "text"
      },
      "source": [
        "<a href=\"https://colab.research.google.com/github/raimonizard/python-tensor-flow-image-classification/blob/main/MP15_UF2_D21_Tensorflow_Image_classification.ipynb\" target=\"_parent\"><img src=\"https://colab.research.google.com/assets/colab-badge.svg\" alt=\"Open In Colab\"/></a>"
      ]
    },
    {
      "cell_type": "markdown",
      "source": [
        "# Processament d'imatges amb Tensorflow"
      ],
      "metadata": {
        "id": "uM35dya_EhSN"
      }
    },
    {
      "cell_type": "markdown",
      "source": [
        "## Importem llibreries"
      ],
      "metadata": {
        "id": "IYTxWY78E1Fq"
      }
    },
    {
      "cell_type": "code",
      "execution_count": null,
      "metadata": {
        "id": "eRHsewUnC3Pe"
      },
      "outputs": [],
      "source": [
        "import tensorflow as tf\n",
        "from tensorflow import keras\n",
        "\n",
        "import numpy as np\n",
        "import matplotlib.pyplot as plt"
      ]
    },
    {
      "cell_type": "markdown",
      "source": [
        "## Importem dataset"
      ],
      "metadata": {
        "id": "CuzBS3zbEt35"
      }
    },
    {
      "cell_type": "markdown",
      "source": [
        "El dataset d'imatges de roba té 70.000 mostres d'imatges de 28x28 px amb la seva corresponent etiqueta de categorització *(10 categories diferents de roba, 7.000 imatges de cada)*.\n",
        "\n",
        "Carreguem 60.000 imatges i la seva corresponent categorització *(etiqueta)* com a set de dades d'entrenament i les 10.000 restants per al test."
      ],
      "metadata": {
        "id": "uPm4rueaFYmb"
      }
    },
    {
      "cell_type": "code",
      "source": [
        "roba = keras.datasets.fashion_mnist\n",
        "(imatges_entrenament, etiquetes_entrenament), (imatges_test, etiquetes_test) = roba.load_data()"
      ],
      "metadata": {
        "id": "TkfSVH16E67J"
      },
      "execution_count": null,
      "outputs": []
    },
    {
      "cell_type": "markdown",
      "source": [
        "## Definim les categories de roba"
      ],
      "metadata": {
        "id": "h1PQAO7-KVkw"
      }
    },
    {
      "cell_type": "code",
      "source": [
        "categories = ['T-shirt/top', 'Trouser', 'Pullover', 'Dress', 'Coat',\n",
        "               'Sandal', 'Shirt', 'Sneaker', 'Bag', 'Ankle boot']"
      ],
      "metadata": {
        "id": "FX6S4TzYKZQ1"
      },
      "execution_count": null,
      "outputs": []
    },
    {
      "cell_type": "markdown",
      "source": [
        "## EDA"
      ],
      "metadata": {
        "id": "OX9gZ1OqKj-A"
      }
    },
    {
      "cell_type": "code",
      "source": [
        "imatges_entrenament.shape"
      ],
      "metadata": {
        "colab": {
          "base_uri": "https://localhost:8080/"
        },
        "id": "zvh9iYIQKlxT",
        "outputId": "947f25fd-748e-4371-cfaf-8e25f8024c9f"
      },
      "execution_count": null,
      "outputs": [
        {
          "output_type": "execute_result",
          "data": {
            "text/plain": [
              "(60000, 28, 28)"
            ]
          },
          "metadata": {},
          "execution_count": 37
        }
      ]
    },
    {
      "cell_type": "code",
      "source": [
        "print(imatges_entrenament[0])"
      ],
      "metadata": {
        "colab": {
          "base_uri": "https://localhost:8080/"
        },
        "id": "7XFNwMQ_amyC",
        "outputId": "1caa94a8-3309-4463-9939-b88a7ce41a74"
      },
      "execution_count": null,
      "outputs": [
        {
          "output_type": "stream",
          "name": "stdout",
          "text": [
            "[[  0   0   0   0   0   0   0   0   0   0   0   0   0   0   0   0   0   0\n",
            "    0   0   0   0   0   0   0   0   0   0]\n",
            " [  0   0   0   0   0   0   0   0   0   0   0   0   0   0   0   0   0   0\n",
            "    0   0   0   0   0   0   0   0   0   0]\n",
            " [  0   0   0   0   0   0   0   0   0   0   0   0   0   0   0   0   0   0\n",
            "    0   0   0   0   0   0   0   0   0   0]\n",
            " [  0   0   0   0   0   0   0   0   0   0   0   0   1   0   0  13  73   0\n",
            "    0   1   4   0   0   0   0   1   1   0]\n",
            " [  0   0   0   0   0   0   0   0   0   0   0   0   3   0  36 136 127  62\n",
            "   54   0   0   0   1   3   4   0   0   3]\n",
            " [  0   0   0   0   0   0   0   0   0   0   0   0   6   0 102 204 176 134\n",
            "  144 123  23   0   0   0   0  12  10   0]\n",
            " [  0   0   0   0   0   0   0   0   0   0   0   0   0   0 155 236 207 178\n",
            "  107 156 161 109  64  23  77 130  72  15]\n",
            " [  0   0   0   0   0   0   0   0   0   0   0   1   0  69 207 223 218 216\n",
            "  216 163 127 121 122 146 141  88 172  66]\n",
            " [  0   0   0   0   0   0   0   0   0   1   1   1   0 200 232 232 233 229\n",
            "  223 223 215 213 164 127 123 196 229   0]\n",
            " [  0   0   0   0   0   0   0   0   0   0   0   0   0 183 225 216 223 228\n",
            "  235 227 224 222 224 221 223 245 173   0]\n",
            " [  0   0   0   0   0   0   0   0   0   0   0   0   0 193 228 218 213 198\n",
            "  180 212 210 211 213 223 220 243 202   0]\n",
            " [  0   0   0   0   0   0   0   0   0   1   3   0  12 219 220 212 218 192\n",
            "  169 227 208 218 224 212 226 197 209  52]\n",
            " [  0   0   0   0   0   0   0   0   0   0   6   0  99 244 222 220 218 203\n",
            "  198 221 215 213 222 220 245 119 167  56]\n",
            " [  0   0   0   0   0   0   0   0   0   4   0   0  55 236 228 230 228 240\n",
            "  232 213 218 223 234 217 217 209  92   0]\n",
            " [  0   0   1   4   6   7   2   0   0   0   0   0 237 226 217 223 222 219\n",
            "  222 221 216 223 229 215 218 255  77   0]\n",
            " [  0   3   0   0   0   0   0   0   0  62 145 204 228 207 213 221 218 208\n",
            "  211 218 224 223 219 215 224 244 159   0]\n",
            " [  0   0   0   0  18  44  82 107 189 228 220 222 217 226 200 205 211 230\n",
            "  224 234 176 188 250 248 233 238 215   0]\n",
            " [  0  57 187 208 224 221 224 208 204 214 208 209 200 159 245 193 206 223\n",
            "  255 255 221 234 221 211 220 232 246   0]\n",
            " [  3 202 228 224 221 211 211 214 205 205 205 220 240  80 150 255 229 221\n",
            "  188 154 191 210 204 209 222 228 225   0]\n",
            " [ 98 233 198 210 222 229 229 234 249 220 194 215 217 241  65  73 106 117\n",
            "  168 219 221 215 217 223 223 224 229  29]\n",
            " [ 75 204 212 204 193 205 211 225 216 185 197 206 198 213 240 195 227 245\n",
            "  239 223 218 212 209 222 220 221 230  67]\n",
            " [ 48 203 183 194 213 197 185 190 194 192 202 214 219 221 220 236 225 216\n",
            "  199 206 186 181 177 172 181 205 206 115]\n",
            " [  0 122 219 193 179 171 183 196 204 210 213 207 211 210 200 196 194 191\n",
            "  195 191 198 192 176 156 167 177 210  92]\n",
            " [  0   0  74 189 212 191 175 172 175 181 185 188 189 188 193 198 204 209\n",
            "  210 210 211 188 188 194 192 216 170   0]\n",
            " [  2   0   0   0  66 200 222 237 239 242 246 243 244 221 220 193 191 179\n",
            "  182 182 181 176 166 168  99  58   0   0]\n",
            " [  0   0   0   0   0   0   0  40  61  44  72  41  35   0   0   0   0   0\n",
            "    0   0   0   0   0   0   0   0   0   0]\n",
            " [  0   0   0   0   0   0   0   0   0   0   0   0   0   0   0   0   0   0\n",
            "    0   0   0   0   0   0   0   0   0   0]\n",
            " [  0   0   0   0   0   0   0   0   0   0   0   0   0   0   0   0   0   0\n",
            "    0   0   0   0   0   0   0   0   0   0]]\n"
          ]
        }
      ]
    },
    {
      "cell_type": "code",
      "source": [
        "len(etiquetes_entrenament)"
      ],
      "metadata": {
        "colab": {
          "base_uri": "https://localhost:8080/"
        },
        "id": "gM5-x1HwKrlx",
        "outputId": "742b72f9-7ece-4d76-b8de-3ec76a47ddcd"
      },
      "execution_count": null,
      "outputs": [
        {
          "output_type": "execute_result",
          "data": {
            "text/plain": [
              "60000"
            ]
          },
          "metadata": {},
          "execution_count": 39
        }
      ]
    },
    {
      "cell_type": "code",
      "source": [
        "print(etiquetes_entrenament[0])"
      ],
      "metadata": {
        "colab": {
          "base_uri": "https://localhost:8080/"
        },
        "id": "t4I1uSuHa1TI",
        "outputId": "be8024f8-688a-4e30-918f-2badb6f850bf"
      },
      "execution_count": null,
      "outputs": [
        {
          "output_type": "stream",
          "name": "stdout",
          "text": [
            "9\n"
          ]
        }
      ]
    },
    {
      "cell_type": "code",
      "source": [
        "print(categories[9])"
      ],
      "metadata": {
        "colab": {
          "base_uri": "https://localhost:8080/"
        },
        "id": "loAkXMGGa7N8",
        "outputId": "f3110e6b-1255-4584-bb62-235eec05086a"
      },
      "execution_count": null,
      "outputs": [
        {
          "output_type": "stream",
          "name": "stdout",
          "text": [
            "Ankle boot\n"
          ]
        }
      ]
    },
    {
      "cell_type": "code",
      "source": [
        "etiquetes_entrenament"
      ],
      "metadata": {
        "colab": {
          "base_uri": "https://localhost:8080/"
        },
        "id": "S8QA0KFKKyjj",
        "outputId": "d454db69-9a9d-4de9-c445-b08bec1d500d"
      },
      "execution_count": null,
      "outputs": [
        {
          "output_type": "execute_result",
          "data": {
            "text/plain": [
              "array([9, 0, 0, ..., 3, 0, 5], dtype=uint8)"
            ]
          },
          "metadata": {},
          "execution_count": 17
        }
      ]
    },
    {
      "cell_type": "code",
      "source": [
        "imatges_test.shape"
      ],
      "metadata": {
        "colab": {
          "base_uri": "https://localhost:8080/"
        },
        "id": "Kzzlugw0K5kr",
        "outputId": "230c97a8-16f6-471b-a029-7ba517cb6dac"
      },
      "execution_count": null,
      "outputs": [
        {
          "output_type": "execute_result",
          "data": {
            "text/plain": [
              "(10000, 28, 28)"
            ]
          },
          "metadata": {},
          "execution_count": 42
        }
      ]
    },
    {
      "cell_type": "code",
      "source": [
        "plt.figure()\n",
        "plt.imshow(imatges_entrenament[44])\n",
        "plt.colorbar()\n",
        "plt.grid(False)\n",
        "plt.show()"
      ],
      "metadata": {
        "colab": {
          "base_uri": "https://localhost:8080/",
          "height": 430
        },
        "id": "bOXAhuLdLFQa",
        "outputId": "d97d75a7-7cc6-4ba7-8b6b-07d14112ceb6"
      },
      "execution_count": null,
      "outputs": [
        {
          "output_type": "display_data",
          "data": {
            "text/plain": [
              "<Figure size 640x480 with 2 Axes>"
            ],
            "image/png": "[encoded data removed]"
          },
          "metadata": {}
        }
      ]
    },
    {
      "cell_type": "code",
      "source": [
        "plt.figure(figsize=(10,10))\n",
        "\n",
        "for i in range(25):\n",
        "    plt.subplot(5,5,i+1)\n",
        "    plt.xticks([]) # Elimina els valors de l'eix X\n",
        "    plt.yticks([]) # Elimina els valors de l'eix Y\n",
        "    plt.grid(False)\n",
        "    plt.imshow(imatges_entrenament[i], cmap=plt.cm.binary)\n",
        "    plt.xlabel(categories[etiquetes_entrenament[i]])\n",
        "\n",
        "plt.show()"
      ],
      "metadata": {
        "colab": {
          "base_uri": "https://localhost:8080/",
          "height": 658
        },
        "id": "9d3Jtr87LlJ2",
        "outputId": "c8146378-c105-42ec-ee72-f3b05207bea4"
      },
      "execution_count": null,
      "outputs": [
        {
          "output_type": "display_data",
          "data": {
            "text/plain": [
              "<Figure size 1000x1000 with 25 Axes>"
            ],
            "image/png": "[encoded data removed]"
          },
          "metadata": {}
        }
      ]
    },
    {
      "cell_type": "code",
      "source": [
        "plt.imshow(imatges_entrenament[0])\n",
        "print(etiquetes_entrenament[0])\n",
        "print(imatges_entrenament[0])"
      ],
      "metadata": {
        "colab": {
          "base_uri": "https://localhost:8080/",
          "height": 1000
        },
        "id": "TuIhfIG4POoU",
        "outputId": "dfbbf905-fbb4-4fe2-8ef9-354b9408628f"
      },
      "execution_count": null,
      "outputs": [
        {
          "output_type": "stream",
          "name": "stdout",
          "text": [
            "9\n",
            "[[  0   0   0   0   0   0   0   0   0   0   0   0   0   0   0   0   0   0\n",
            "    0   0   0   0   0   0   0   0   0   0]\n",
            " [  0   0   0   0   0   0   0   0   0   0   0   0   0   0   0   0   0   0\n",
            "    0   0   0   0   0   0   0   0   0   0]\n",
            " [  0   0   0   0   0   0   0   0   0   0   0   0   0   0   0   0   0   0\n",
            "    0   0   0   0   0   0   0   0   0   0]\n",
            " [  0   0   0   0   0   0   0   0   0   0   0   0   1   0   0  13  73   0\n",
            "    0   1   4   0   0   0   0   1   1   0]\n",
            " [  0   0   0   0   0   0   0   0   0   0   0   0   3   0  36 136 127  62\n",
            "   54   0   0   0   1   3   4   0   0   3]\n",
            " [  0   0   0   0   0   0   0   0   0   0   0   0   6   0 102 204 176 134\n",
            "  144 123  23   0   0   0   0  12  10   0]\n",
            " [  0   0   0   0   0   0   0   0   0   0   0   0   0   0 155 236 207 178\n",
            "  107 156 161 109  64  23  77 130  72  15]\n",
            " [  0   0   0   0   0   0   0   0   0   0   0   1   0  69 207 223 218 216\n",
            "  216 163 127 121 122 146 141  88 172  66]\n",
            " [  0   0   0   0   0   0   0   0   0   1   1   1   0 200 232 232 233 229\n",
            "  223 223 215 213 164 127 123 196 229   0]\n",
            " [  0   0   0   0   0   0   0   0   0   0   0   0   0 183 225 216 223 228\n",
            "  235 227 224 222 224 221 223 245 173   0]\n",
            " [  0   0   0   0   0   0   0   0   0   0   0   0   0 193 228 218 213 198\n",
            "  180 212 210 211 213 223 220 243 202   0]\n",
            " [  0   0   0   0   0   0   0   0   0   1   3   0  12 219 220 212 218 192\n",
            "  169 227 208 218 224 212 226 197 209  52]\n",
            " [  0   0   0   0   0   0   0   0   0   0   6   0  99 244 222 220 218 203\n",
            "  198 221 215 213 222 220 245 119 167  56]\n",
            " [  0   0   0   0   0   0   0   0   0   4   0   0  55 236 228 230 228 240\n",
            "  232 213 218 223 234 217 217 209  92   0]\n",
            " [  0   0   1   4   6   7   2   0   0   0   0   0 237 226 217 223 222 219\n",
            "  222 221 216 223 229 215 218 255  77   0]\n",
            " [  0   3   0   0   0   0   0   0   0  62 145 204 228 207 213 221 218 208\n",
            "  211 218 224 223 219 215 224 244 159   0]\n",
            " [  0   0   0   0  18  44  82 107 189 228 220 222 217 226 200 205 211 230\n",
            "  224 234 176 188 250 248 233 238 215   0]\n",
            " [  0  57 187 208 224 221 224 208 204 214 208 209 200 159 245 193 206 223\n",
            "  255 255 221 234 221 211 220 232 246   0]\n",
            " [  3 202 228 224 221 211 211 214 205 205 205 220 240  80 150 255 229 221\n",
            "  188 154 191 210 204 209 222 228 225   0]\n",
            " [ 98 233 198 210 222 229 229 234 249 220 194 215 217 241  65  73 106 117\n",
            "  168 219 221 215 217 223 223 224 229  29]\n",
            " [ 75 204 212 204 193 205 211 225 216 185 197 206 198 213 240 195 227 245\n",
            "  239 223 218 212 209 222 220 221 230  67]\n",
            " [ 48 203 183 194 213 197 185 190 194 192 202 214 219 221 220 236 225 216\n",
            "  199 206 186 181 177 172 181 205 206 115]\n",
            " [  0 122 219 193 179 171 183 196 204 210 213 207 211 210 200 196 194 191\n",
            "  195 191 198 192 176 156 167 177 210  92]\n",
            " [  0   0  74 189 212 191 175 172 175 181 185 188 189 188 193 198 204 209\n",
            "  210 210 211 188 188 194 192 216 170   0]\n",
            " [  2   0   0   0  66 200 222 237 239 242 246 243 244 221 220 193 191 179\n",
            "  182 182 181 176 166 168  99  58   0   0]\n",
            " [  0   0   0   0   0   0   0  40  61  44  72  41  35   0   0   0   0   0\n",
            "    0   0   0   0   0   0   0   0   0   0]\n",
            " [  0   0   0   0   0   0   0   0   0   0   0   0   0   0   0   0   0   0\n",
            "    0   0   0   0   0   0   0   0   0   0]\n",
            " [  0   0   0   0   0   0   0   0   0   0   0   0   0   0   0   0   0   0\n",
            "    0   0   0   0   0   0   0   0   0   0]]\n"
          ]
        },
        {
          "output_type": "display_data",
          "data": {
            "text/plain": [
              "<Figure size 640x480 with 1 Axes>"
            ],
            "image/png": "[encoded data removed]"
          },
          "metadata": {}
        }
      ]
    },
    {
      "cell_type": "markdown",
      "source": [
        "Cada imatge és una matriu de valors de píxels entre 0 i 255."
      ],
      "metadata": {
        "id": "lqIwOE5cXYir"
      }
    },
    {
      "cell_type": "markdown",
      "source": [
        "## Preparem les dades"
      ],
      "metadata": {
        "id": "LmN91FSkPr-D"
      }
    },
    {
      "cell_type": "markdown",
      "source": [
        "**Normalitem** el valor dels píxels de les imatges entre 0 i 1."
      ],
      "metadata": {
        "id": "BmFIQqYXP1oJ"
      }
    },
    {
      "cell_type": "code",
      "source": [
        "imatges_entrenament  = imatges_entrenament / 255.0\n",
        "imatges_test = imatges_test / 255.0"
      ],
      "metadata": {
        "id": "61WMnT_tPta0"
      },
      "execution_count": null,
      "outputs": []
    },
    {
      "cell_type": "markdown",
      "source": [
        "## Definim xarxa neuronal"
      ],
      "metadata": {
        "id": "pYLxHAp2GPDl"
      }
    },
    {
      "cell_type": "code",
      "source": [
        "model = keras.Sequential([\n",
        "    keras.layers.Flatten(input_shape=(28, 28)), # Input de dades: especifiquem imatges de 28x28 px\n",
        "    keras.layers.Dense(128, activation=tf.nn.relu), # Provarem 128 combinacions diferents de paràmetres per a entrenar la xarxa neuronal / \"relu\" = rectified linear unit (retorna un valor donat si és > 0)\n",
        "    keras.layers.Dense(10, activation=tf.nn.softmax) # Output: Li demanem que categoritzi les imatges de input en una de les 10 categories de roba que sabem que existeixen en el dataset / softmax es queda amb el valor més gran d'un vector numèric\n",
        "])"
      ],
      "metadata": {
        "id": "MSYV3BQzGOcz"
      },
      "execution_count": null,
      "outputs": []
    },
    {
      "cell_type": "markdown",
      "source": [
        "Si afegim més neurones a la xarxa neuronal `keras.layers.Dense(128, activation=tf.nn.relu)` i posem 1024 enlloc de 128, normalment obtindrem millors resultats, però tardarà més.\n",
        "\n",
        "La capa *(layer)* de resutat sempre ha de tenir el mateix valor que el nombre de categories que estem intentant pronosticar. En el nostre cas **10 categories diferents de roba**."
      ],
      "metadata": {
        "id": "EdS4UO3_VnnE"
      }
    },
    {
      "cell_type": "markdown",
      "source": [
        "## Optimitzem el model"
      ],
      "metadata": {
        "id": "inJ89DwfHGWN"
      }
    },
    {
      "cell_type": "code",
      "source": [
        "model.compile(optimizer='adam',\n",
        "              loss=tf.keras.losses.SparseCategoricalCrossentropy(from_logits=True),\n",
        "              metrics=['accuracy'])"
      ],
      "metadata": {
        "id": "l2nO502VHJ40"
      },
      "execution_count": null,
      "outputs": []
    },
    {
      "cell_type": "markdown",
      "source": [
        "## Entrenem el model"
      ],
      "metadata": {
        "id": "TV5UvR3UQ9hI"
      }
    },
    {
      "cell_type": "code",
      "source": [
        "# epochs = nombre de vegades que el model intenta encaixar les imatges en cadascuna de les categories\n",
        "model.fit(imatges_entrenament, etiquetes_entrenament, epochs = 10)"
      ],
      "metadata": {
        "colab": {
          "base_uri": "https://localhost:8080/"
        },
        "id": "U1UnKT4MRCVe",
        "outputId": "8cbd2e94-3dac-442c-d168-7b7581bb7c20"
      },
      "execution_count": null,
      "outputs": [
        {
          "output_type": "stream",
          "name": "stdout",
          "text": [
            "Epoch 1/10\n"
          ]
        },
        {
          "output_type": "stream",
          "name": "stderr",
          "text": [
            "/usr/local/lib/python3.10/dist-packages/keras/src/backend.py:5727: UserWarning: \"`sparse_categorical_crossentropy` received `from_logits=True`, but the `output` argument was produced by a Softmax activation and thus does not represent logits. Was this intended?\n",
            "  output, from_logits = _get_logits(\n"
          ]
        },
        {
          "output_type": "stream",
          "name": "stdout",
          "text": [
            "1875/1875 [==============================] - 8s 4ms/step - loss: 0.5011 - accuracy: 0.8227\n",
            "Epoch 2/10\n",
            "1875/1875 [==============================] - 7s 4ms/step - loss: 0.3716 - accuracy: 0.8650\n",
            "Epoch 3/10\n",
            "1875/1875 [==============================] - 7s 4ms/step - loss: 0.3354 - accuracy: 0.8767\n",
            "Epoch 4/10\n",
            "1875/1875 [==============================] - 7s 4ms/step - loss: 0.3096 - accuracy: 0.8859\n",
            "Epoch 5/10\n",
            "1875/1875 [==============================] - 6s 3ms/step - loss: 0.2928 - accuracy: 0.8903\n",
            "Epoch 6/10\n",
            "1875/1875 [==============================] - 7s 4ms/step - loss: 0.2788 - accuracy: 0.8975\n",
            "Epoch 7/10\n",
            "1875/1875 [==============================] - 6s 3ms/step - loss: 0.2665 - accuracy: 0.9019\n",
            "Epoch 8/10\n",
            "1875/1875 [==============================] - 7s 4ms/step - loss: 0.2558 - accuracy: 0.9043\n",
            "Epoch 9/10\n",
            "1875/1875 [==============================] - 6s 3ms/step - loss: 0.2469 - accuracy: 0.9082\n",
            "Epoch 10/10\n",
            "1875/1875 [==============================] - 8s 4ms/step - loss: 0.2382 - accuracy: 0.9112\n"
          ]
        },
        {
          "output_type": "execute_result",
          "data": {
            "text/plain": [
              "<keras.src.callbacks.History at 0x7f44a5651060>"
            ]
          },
          "metadata": {},
          "execution_count": 49
        }
      ]
    },
    {
      "cell_type": "markdown",
      "source": [
        "Si posem un **epoch** més alt, l'entrenament tardarà més però incrementarem l'accuracy."
      ],
      "metadata": {
        "id": "AoosHMb7VePF"
      }
    },
    {
      "cell_type": "markdown",
      "source": [
        "## Test del model generat"
      ],
      "metadata": {
        "id": "zJQdKcJhRcng"
      }
    },
    {
      "cell_type": "code",
      "source": [
        "perdua_test, encert_test = model.evaluate(imatges_test, etiquetes_test)"
      ],
      "metadata": {
        "colab": {
          "base_uri": "https://localhost:8080/"
        },
        "id": "wrA74ZtlRfXq",
        "outputId": "d7910336-6398-4f66-f349-a8354640ef1a"
      },
      "execution_count": null,
      "outputs": [
        {
          "output_type": "stream",
          "name": "stdout",
          "text": [
            "313/313 [==============================] - 1s 2ms/step - loss: 0.3430 - accuracy: 0.8833\n"
          ]
        }
      ]
    },
    {
      "cell_type": "code",
      "source": [
        "print(perdua_test)\n",
        "# Percentatge d'encert (per quantes imatges n'ha encertat la categoria)\n",
        "print(encert_test)"
      ],
      "metadata": {
        "colab": {
          "base_uri": "https://localhost:8080/"
        },
        "id": "JPZB5hwBR2Td",
        "outputId": "902f37f7-c88a-468d-a4cb-9618ad4012b4"
      },
      "execution_count": null,
      "outputs": [
        {
          "output_type": "stream",
          "name": "stdout",
          "text": [
            "0.34298649430274963\n",
            "0.8833000063896179\n"
          ]
        }
      ]
    },
    {
      "cell_type": "markdown",
      "source": [
        "Per tal de reduir la pèrdua, podem provar de entrenar de nou el model incrementant el valor dels **epoch** però no sempre un valor més gran significa menys pèrdua ja que podem caure en el problema de **overfitting** que significa que el nostre model ha \"estudiat massa\" les imatges del dataset d'entrenament i el soroll de les imatges (píxels de brutícia de les imatges) distorsionen el model entrenat provocant que empitjori al intentar predir imatges noves."
      ],
      "metadata": {
        "id": "Lb0s_WcaWgGh"
      }
    },
    {
      "cell_type": "markdown",
      "source": [
        "## Prediccions"
      ],
      "metadata": {
        "id": "mmsXvWXLR8Z0"
      }
    },
    {
      "cell_type": "code",
      "source": [
        "prediccio_categories = model.predict(imatges_test)\n",
        "print(prediccio_categories[9999])\n",
        "print(etiquetes_test[9999])"
      ],
      "metadata": {
        "colab": {
          "base_uri": "https://localhost:8080/"
        },
        "id": "3C-nFvCTR-Ys",
        "outputId": "f8a0271c-74fc-415f-9c7c-5df3b243faf2"
      },
      "execution_count": null,
      "outputs": [
        {
          "output_type": "stream",
          "name": "stdout",
          "text": [
            "313/313 [==============================] - 1s 2ms/step\n",
            "[9.7194170e-06 5.9157275e-09 1.7260960e-05 1.7436076e-08 1.1159387e-04\n",
            " 9.9966311e-01 1.0756602e-06 1.6795688e-04 2.9149951e-05 7.7189824e-08]\n",
            "5\n"
          ]
        }
      ]
    },
    {
      "cell_type": "code",
      "source": [
        "print(categories[5])"
      ],
      "metadata": {
        "colab": {
          "base_uri": "https://localhost:8080/"
        },
        "id": "_nvfGQhIf4HT",
        "outputId": "8e49c29a-517c-4b7e-9f3a-0354c1198ab5"
      },
      "execution_count": null,
      "outputs": [
        {
          "output_type": "stream",
          "name": "stdout",
          "text": [
            "Sandal\n"
          ]
        }
      ]
    },
    {
      "cell_type": "code",
      "source": [
        "plt.figure()\n",
        "plt.imshow(imatges_test[9999])\n",
        "plt.colorbar()\n",
        "plt.grid(False)\n",
        "plt.show()"
      ],
      "metadata": {
        "colab": {
          "base_uri": "https://localhost:8080/",
          "height": 430
        },
        "id": "mbHQ-8AKf9mL",
        "outputId": "c235efcc-eaab-4067-8913-14f44d6935cd"
      },
      "execution_count": null,
      "outputs": [
        {
          "output_type": "display_data",
          "data": {
            "text/plain": [
              "<Figure size 640x480 with 2 Axes>"
            ],
            "image/png": "[encoded data removed]"
          },
          "metadata": {}
        }
      ]
    },
    {
      "cell_type": "markdown",
      "source": [
        "# Annex"
      ],
      "metadata": {
        "id": "gIwHacqpXzWf"
      }
    },
    {
      "cell_type": "markdown",
      "source": [
        "## Entrenar el model fins que arribi al x% accuracy"
      ],
      "metadata": {
        "id": "Zlur999QX0mx"
      }
    },
    {
      "cell_type": "markdown",
      "source": [
        "Definim una funció **callback** per tal de que puguem aturar l'entrenament de la xarxa neuronal un cop s'assoleixi el 90% d'accuracy.\n",
        "\n",
        "Funciona com un **break**."
      ],
      "metadata": {
        "id": "jMMbOpVbZGBS"
      }
    },
    {
      "cell_type": "code",
      "source": [
        "class myCallback(tf.keras.callbacks.Callback):\n",
        "  def on_epoch_end(self, epoch, logs={}):\n",
        "\n",
        "    if(logs.get('accuracy') > 0.9):\n",
        "      print(\"\\Hem arribat al 90% accuracy, cancelem entrenament!\")\n",
        "      self.model.stop_training = True"
      ],
      "metadata": {
        "id": "0UGS500SX45J"
      },
      "execution_count": null,
      "outputs": []
    },
    {
      "cell_type": "code",
      "source": [
        "callbacks = myCallback()\n",
        "\n",
        "# Definim la xarxa neuronal\n",
        "model = keras.Sequential([\n",
        "    keras.layers.Flatten(input_shape=(28, 28)), # Input de dades: especifiquem imatges de 28x28 px\n",
        "    keras.layers.Dense(512, activation=tf.nn.relu), # Provarem 512 neurones per a entrenar la xarxa neuronal / \"relu\" = rectified linear unit (retorna un valor donat si és > 0)\n",
        "    keras.layers.Dense(10, activation=tf.nn.softmax) # Output: Li demanem que categoritzi les imatges de input en una de les 10 categories de roba que sabem que existeixen en el dataset / softmax es queda amb el valor més gran d'un vector numèric\n",
        "])\n",
        "\n",
        "# Optimitzem la xarxa neuronal definida\n",
        "model.compile(optimizer='adam', loss='sparse_categorical_crossentropy', metrics=['accuracy'])\n",
        "\n",
        "# Entrenem el model amb 15 iteracions i amb el callback per tal de que s'aturi al arribar al 90% accuracy\n",
        "model.fit(imatges_entrenament, etiquetes_entrenament, epochs=100, callbacks=[callbacks])\n",
        "\n",
        "\n"
      ],
      "metadata": {
        "colab": {
          "base_uri": "https://localhost:8080/"
        },
        "id": "zEgl29RuYQnz",
        "outputId": "595ba13f-ad14-481a-b909-ca692acba988"
      },
      "execution_count": null,
      "outputs": [
        {
          "output_type": "stream",
          "name": "stdout",
          "text": [
            "Epoch 1/100\n",
            "1875/1875 [==============================] - 15s 8ms/step - loss: 0.4799 - accuracy: 0.8299\n",
            "Epoch 2/100\n",
            "1875/1875 [==============================] - 14s 7ms/step - loss: 0.3591 - accuracy: 0.8689\n",
            "Epoch 3/100\n",
            "1875/1875 [==============================] - 14s 8ms/step - loss: 0.3231 - accuracy: 0.8818\n",
            "Epoch 4/100\n",
            "1875/1875 [==============================] - 14s 8ms/step - loss: 0.2990 - accuracy: 0.8895\n",
            "Epoch 5/100\n",
            "1875/1875 [==============================] - 14s 7ms/step - loss: 0.2806 - accuracy: 0.8947\n",
            "Epoch 6/100\n",
            "1875/1875 [==============================] - 14s 7ms/step - loss: 0.2661 - accuracy: 0.8998\n",
            "Epoch 7/100\n",
            "1875/1875 [==============================] - ETA: 0s - loss: 0.2516 - accuracy: 0.9057\\Hem arribat al 90% accuracy, cancelem entrenament!\n",
            "1875/1875 [==============================] - 14s 7ms/step - loss: 0.2516 - accuracy: 0.9057\n"
          ]
        },
        {
          "output_type": "execute_result",
          "data": {
            "text/plain": [
              "<keras.src.callbacks.History at 0x7f449d12ac80>"
            ]
          },
          "metadata": {},
          "execution_count": 60
        }
      ]
    },
    {
      "cell_type": "markdown",
      "source": [
        "## Crear convolutional neural networks"
      ],
      "metadata": {
        "id": "LjCFIVEmFAVg"
      }
    },
    {
      "cell_type": "markdown",
      "source": [
        "En la disciplina del tractament d'imatges per computació, no sempre les dades estan homogeïnitzades (per exemple usen diferents filtres de color, mida, l'objecte d'estudi no es troba al centre de la foto, etc)\n",
        "\n",
        "Per aquest motiu, pot ser interessant afegir una o dues capes *layers* de pre-processament de les imatges a la nostra xarxa neuronal per tal de que el nostre model tingui millor accuracy.\n",
        "\n",
        "Per a fer-ho, afegirem les capes de: `tensorflow.keras.layers.Conv2d` i `keras.layers.MaxPooling2D`"
      ],
      "metadata": {
        "id": "b0zhFZmJFebt"
      }
    },
    {
      "cell_type": "code",
      "source": [
        "model = keras.Sequential([\n",
        "    # Li diem que generi 64 filtres d'imatge i que usi per multiplicar les imatges i a través de cada epoch determinar quin filtre\n",
        "      # ajuda més a determinar la categoria correcte de roba\n",
        "      # input_shape() serveix per especificar la mida en px de les imatges d'entrada 28x28 px\n",
        "    keras.layers.Conv2D(64, (3,3), activation='relu', input_shape=(28, 28, 1)),\n",
        "    # Capa per comprimir la imatge i ressaltar els punts principals que ajuden a identificar la categoria\n",
        "    keras.layers.MaxPooling2D(2, 2),\n",
        "    keras.layers.Conv2D(64, (3,3), activation='relu', input_shape=(28, 28, 1)),\n",
        "    keras.layers.MaxPooling2D(2, 2),\n",
        "    # Input de dades: especifiquem imatges de 28x28 px\n",
        "    keras.layers.Flatten(input_shape=(28, 28)),\n",
        "    # Provarem 512 neurones per a entrenar la xarxa neuronal\n",
        "      # \"relu\" = rectified linear unit (retorna un valor donat si és > 0)\n",
        "    keras.layers.Dense(512, activation=tf.nn.relu),\n",
        "    # Output: Li demanem que categoritzi les imatges de input en una de les 10 categories de roba que sabem que existeixen en el dataset\n",
        "      # \"softmax\" es queda amb el valor més gran d'un vector numèric\n",
        "    keras.layers.Dense(10, activation=tf.nn.softmax)\n",
        "])\n"
      ],
      "metadata": {
        "id": "JVG_sy1MGEHv"
      },
      "execution_count": null,
      "outputs": []
    },
    {
      "cell_type": "markdown",
      "source": [
        "## Definició de 'layer' en xarxes neuronals"
      ],
      "metadata": {
        "id": "T39texLeaJ5P"
      }
    },
    {
      "cell_type": "markdown",
      "source": [
        "Layer is a general term that applies to a collection of 'nodes' operating together at a specific depth within a neural network.\n",
        "\n",
        "\n",
        "<[![image](https://i.stack.imgur.com/Kc50L.jpg)](https://i.stack.imgur.com/Kc50L.jpg)\n",
        "\n",
        "The **input layer** is contains your raw data (you can think of each variable as a 'node').\n",
        "\n",
        "The **hidden layer(s)** are where the black magic happens in neural networks. Each layer is trying to learn different aspects about the data by minimizing an error/cost function. The most intuitive way to understand these layers is in the context of 'image recognition' such as a face. The first layer may learn edge detection, the second may detect eyes, third a nose, etc. This is not exactly what is happening but the idea is to break the problem up in to components that different levels of abstraction can piece together much like our own brains work (hence the name 'neural networks').\n",
        "\n",
        "The **output layer** is the simplest, usually consisting of a single output for classification problems. Although it is a single 'node' it is still considered a layer in a neural network as it could contain multiple nodes."
      ],
      "metadata": {
        "id": "uj_EgWp-aPKX"
      }
    },
    {
      "cell_type": "markdown",
      "source": [
        "## Definició del 'loss' en xarxes neuronals"
      ],
      "metadata": {
        "id": "yy0fUfsHhE1W"
      }
    },
    {
      "cell_type": "markdown",
      "source": [
        "A **loss function** measures **how good a neural network model is** in **performing a certain task**, which in most cases is **regression** or **classification**.\n",
        "\n",
        "**We must minimize the value of the loss function** during the backpropagation step in order to make the neural network better."
      ],
      "metadata": {
        "id": "_dCk4UrYhIR5"
      }
    },
    {
      "cell_type": "markdown",
      "source": [
        "# Bibliografia"
      ],
      "metadata": {
        "id": "ucuIWSnZZkFj"
      }
    },
    {
      "cell_type": "markdown",
      "source": [
        "> [Documentació oficial TensorFlow](https://www.tensorflow.org/tutorials/keras/classification)\n",
        "\n",
        "> [Vídeo introducció Xarxes Neuronals](https://youtu.be/KNAWp2S3w94?list=PLQY2H8rRoyvwWuPiWnuTDBHe7I0fMSsfO)\n",
        "\n",
        "> [Vídeo explicació xarxa neuronal amb el dataset de roba](https://youtu.be/bemDFpNooA8?list=PLQY2H8rRoyvwWuPiWnuTDBHe7I0fMSsfO)\n",
        "\n",
        "> [Vídeo explicació convolutional neural network](https://youtu.be/x_VrgWTKkiM?list=PLQY2H8rRoyvwWuPiWnuTDBHe7I0fMSsfO)\n",
        "\n",
        "> [Lab2-Computer-Vision (Google Collab)](https://colab.research.google.com/github/lmoroney/mlday-tokyo/blob/master/Lab2-Computer-Vision.ipynb#scrollTo=pkaEHHgqZbYv)\n",
        "\n",
        "> [Classification (Google Collab)](https://colab.research.google.com/github/tensorflow/docs/blob/master/site/en/tutorials/keras/classification.ipynb#scrollTo=oZTImqg_CaW1)\n"
      ],
      "metadata": {
        "id": "hR02BJBpZn-M"
      }
    }
  ]
}